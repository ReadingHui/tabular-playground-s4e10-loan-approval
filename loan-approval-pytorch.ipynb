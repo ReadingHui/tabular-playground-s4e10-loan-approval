{
  "cells": [
    {
      "cell_type": "code",
      "source": [
        "# Google Colab preparation\n",
        "\n",
        "%%capture\n",
        "\n",
        "!pip install scikit-optimize\n",
        "!pip install imblearn\n",
        "\n",
        "!git clone https://github.com/ReadingHui/tabular-playground-s4e10-loan-approval\n",
        "\n",
        "import sys\n",
        "sys.path.insert(0,'/content/tabular-playground-s4e10-loan-approval')"
      ],
      "metadata": {
        "id": "0awsat54Op_J"
      },
      "execution_count": 1,
      "outputs": []
    },
    {
      "cell_type": "code",
      "execution_count": 2,
      "metadata": {
        "id": "9M9PSTkQOeLX",
        "outputId": "a5bc1766-5a86-478f-affc-9edaefec0749",
        "colab": {
          "base_uri": "https://localhost:8080/"
        }
      },
      "outputs": [
        {
          "output_type": "stream",
          "name": "stdout",
          "text": [
            "Using cuda device\n"
          ]
        }
      ],
      "source": [
        "import numpy as np # linear algebra\n",
        "import pandas as pd # data processing, CSV file I/O (e.g. pd.read_csv)\n",
        "\n",
        "from sklearn.metrics import roc_auc_score\n",
        "from sklearn.model_selection import train_test_split, KFold\n",
        "from sklearn.preprocessing import StandardScaler\n",
        "from skopt import BayesSearchCV\n",
        "from skopt.space import Real, Integer, Categorical\n",
        "from imblearn.over_sampling import RandomOverSampler\n",
        "\n",
        "import matplotlib.pyplot as plt\n",
        "import preprocess\n",
        "\n",
        "import torch\n",
        "from torch import nn\n",
        "from torch import optim\n",
        "import torch.utils.data as data_utils\n",
        "device = (\n",
        "    \"cuda\"\n",
        "    if torch.cuda.is_available()\n",
        "    else \"mps\"\n",
        "    if torch.backends.mps.is_available()\n",
        "    else \"cpu\"\n",
        ")\n",
        "print(f\"Using {device} device\")"
      ]
    },
    {
      "cell_type": "markdown",
      "metadata": {
        "id": "7dj3Al85OeLY"
      },
      "source": [
        "# Global Variables"
      ]
    },
    {
      "cell_type": "code",
      "execution_count": 3,
      "metadata": {
        "id": "XYxLDkedOeLY"
      },
      "outputs": [],
      "source": [
        "# In Google Colab\n",
        "train_path = '/content/tabular-playground-s4e10-loan-approval/train.csv'\n",
        "test_path = '/content/tabular-playground-s4e10-loan-approval/test.csv'\n",
        "\n",
        "# In Local machine\n",
        "# train_path = 'train.csv'\n",
        "# test_path = 'test.csv'\n",
        "\n",
        "random_state = 1048576\n",
        "target = 'loan_status'\n",
        "cat_features = [\n",
        "    'person_home_ownership',\n",
        "    'loan_intent',\n",
        "    'loan_grade',\n",
        "    'cb_person_default_on_file'\n",
        "]\n",
        "\n",
        "num_features = [\n",
        "    'person_age',\n",
        "    'person_income',\n",
        "    'person_emp_length',\n",
        "    'loan_amnt',\n",
        "    'loan_int_rate',\n",
        "    'loan_percent_income',\n",
        "    'cb_person_cred_hist_length'\n",
        "]"
      ]
    },
    {
      "cell_type": "markdown",
      "metadata": {
        "id": "HJ-AkjE4OeLZ"
      },
      "source": [
        "# Data Loading and Preprocessing"
      ]
    },
    {
      "cell_type": "code",
      "execution_count": 4,
      "metadata": {
        "id": "Y66xYo0EOeLZ",
        "outputId": "b6587516-dbdf-4d46-e7c1-d997444e04da",
        "colab": {
          "base_uri": "https://localhost:8080/"
        }
      },
      "outputs": [
        {
          "output_type": "stream",
          "name": "stdout",
          "text": [
            "Shape of X_train is: (52780, 11); shape of y_train is: (52780,)\n",
            "Shape of X_test is: (5865, 11); shape of y_test is: (5865,)\n",
            "New shape of X_train is: (52639, 11); New shape of y_train is: (52639,)\n",
            "Target distribution before oversampling: (0: 14.22%, 1: 85.78%)\n",
            "X_train shape after oversampling: (90312, 26); y_train shape after oversampling: (90312, 26)\n",
            "Target distribution after oversampling: (0: 50.0%, 1: 50.0%)\n",
            "Shape of X_train is: (81280, 26); shape of y_train is: (81280,)\n",
            "Shape of X_val is: (9032, 26); shape of y_test is: (9032,)\n"
          ]
        }
      ],
      "source": [
        "# Data Loading\n",
        "X_train, X_test, y_train, y_test = preprocess.DataImport.get_train_test(train_path, index_col=0, target=target, random_state=random_state, verbose=1)\n",
        "\n",
        "# Remove outliers\n",
        "X_train, y_train = preprocess.Outliers.remove_outliers(X_train, y_train, verbose=1)\n",
        "\n",
        "# One-Hot Encode\n",
        "encoder = preprocess.CategoryEncoder(cat_features=cat_features, method='one_hot')\n",
        "X_train = encoder.fit_transform(X_train)\n",
        "X_test = encoder.transform(X_test)\n",
        "\n",
        "# Standard Scaling\n",
        "scaler = StandardScaler()\n",
        "features = X_train.columns\n",
        "X_train = pd.DataFrame(scaler.fit_transform(X_train), columns=features)\n",
        "X_test = pd.DataFrame(scaler.transform(X_test), columns=features)\n",
        "\n",
        "# Oversampling\n",
        "print(f'Target distribution before oversampling: (0: {round(y_train.sum() / y_train.size * 100, 2)}%, 1: {round((1 - y_train.sum() / y_train.size) * 100, 2)}%)')\n",
        "oversampler = RandomOverSampler(random_state=random_state)\n",
        "X_train, y_train = oversampler.fit_resample(X_train, y_train)\n",
        "print(f'X_train shape after oversampling: {X_train.shape}; y_train shape after oversampling: {X_train.shape}')\n",
        "print(f'Target distribution after oversampling: (0: {round(y_train.sum() / y_train.size * 100, 2)}%, 1: {round((1 - y_train.sum() / y_train.size) * 100, 2)}%)')\n",
        "\n",
        "# Train - Validation Split\n",
        "X_train, X_val, y_train, y_val = train_test_split(\n",
        "            X_train, y_train, test_size=0.1, random_state=random_state)\n",
        "\n",
        "print(f'Shape of X_train is: {X_train.shape}; shape of y_train is: {y_train.shape}')\n",
        "print(f'Shape of X_val is: {X_val.shape}; shape of y_test is: {y_val.shape}')\n",
        "\n",
        "# Casting everything to pytorch tensor\n",
        "X_train = torch.tensor(X_train.values, device=device, dtype=torch.float32)\n",
        "y_train = torch.tensor(y_train.values, device=device, dtype=torch.float32)\n",
        "X_val = torch.tensor(X_val.values, device=device, dtype=torch.float32)\n",
        "y_val = torch.tensor(y_val.values, device=device, dtype=torch.float32)\n",
        "X_test = torch.tensor(X_test.values, device=device, dtype=torch.float32)\n",
        "y_test = torch.tensor(y_test.values, device=device, dtype=torch.float32)"
      ]
    },
    {
      "cell_type": "markdown",
      "metadata": {
        "id": "9sTNxLbAOeLZ"
      },
      "source": [
        "# Model building"
      ]
    },
    {
      "cell_type": "code",
      "execution_count": 5,
      "metadata": {
        "id": "g_1S_qlEOeLZ"
      },
      "outputs": [],
      "source": [
        "# Define the neural network model\n",
        "class BinaryClassificationNN(nn.Module):\n",
        "    def __init__(self, shape: np.ndarray):\n",
        "        super(BinaryClassificationNN, self).__init__()\n",
        "\n",
        "        # Define the layers\n",
        "        self.fc1 = nn.Linear(in_features=shape[1], out_features=32)\n",
        "        self.fc2 = nn.Linear(in_features=32, out_features=16)\n",
        "        self.fc3 = nn.Linear(in_features=16, out_features=8)\n",
        "        self.fc4 = nn.Linear(in_features=8, out_features=1)\n",
        "\n",
        "        # Activation function\n",
        "        self.relu = nn.ReLU()\n",
        "\n",
        "        # Sigmoid for probability output\n",
        "        self.sigmoid = nn.Sigmoid()\n",
        "\n",
        "        # Initialize weights\n",
        "        self.init_weights()  # Custom weight initialization\n",
        "\n",
        "    def init_weights(self):\n",
        "        # Initialize weights with Xavier (Glorot) initialization\n",
        "        nn.init.xavier_uniform_(self.fc1.weight)\n",
        "        nn.init.xavier_uniform_(self.fc2.weight)\n",
        "        nn.init.xavier_uniform_(self.fc3.weight)\n",
        "        nn.init.xavier_uniform_(self.fc4.weight)\n",
        "\n",
        "        # Optionally, initialize biases to zero\n",
        "        nn.init.zeros_(self.fc1.bias)\n",
        "        nn.init.zeros_(self.fc2.bias)\n",
        "        nn.init.zeros_(self.fc3.bias)\n",
        "        nn.init.zeros_(self.fc4.bias)\n",
        "\n",
        "\n",
        "    def forward(self, X: pd.DataFrame | np.ndarray) -> pd.DataFrame | np.ndarray:\n",
        "        X = self.relu(self.fc1(X))\n",
        "        X = self.relu(self.fc2(X))\n",
        "        X = self.relu(self.fc3(X))\n",
        "        X = self.sigmoid(self.fc4(X))  # Sigmoid for binary classification\n",
        "        return X\n",
        "\n",
        "    def fit(self, X: pd.DataFrame | np.ndarray, y: pd.Series | np.ndarray, num_epochs: int = 10, batch_size: int = 32, shuffle: bool = True, learning_rate: float = 0.01, weight_decay: float = 1e-3, cv: int = 0, criterion: torch.nn.modules.loss = nn.BCELoss(), verbose: int = 1):\n",
        "        # Initialize optimizer and loss_list\n",
        "        optimizer = optim.Adam(self.parameters(), lr=learning_rate, weight_decay=weight_decay)\n",
        "        self.loss_list = []\n",
        "\n",
        "        # Initialize data_laoder\n",
        "        X = X.clone()\n",
        "        y = y.clone()\n",
        "        data_tensor = data_utils.TensorDataset(X, y)\n",
        "        data_loader = data_utils.DataLoader(dataset = data_tensor, batch_size=batch_size, shuffle=shuffle)\n",
        "\n",
        "        for epoch in range(num_epochs):  # Training loop\n",
        "            batch_loss = []\n",
        "            for batch_idx, (inputs, labels) in enumerate(data_loader): # For each batch\n",
        "                # Forward pass\n",
        "                outputs = self(inputs)\n",
        "                outputs = torch.squeeze(outputs)\n",
        "\n",
        "                # Compute the loss\n",
        "                loss = criterion(outputs, labels)\n",
        "\n",
        "                # Backpropagation and optimization\n",
        "                optimizer.zero_grad()  # Clear previous gradients\n",
        "                loss.backward() # Backpropagate\n",
        "                optimizer.step() # Update weights\n",
        "\n",
        "                batch_loss.append(loss.item())\n",
        "\n",
        "                if verbose > 1:\n",
        "                    print_freq = num_epochs // 10\n",
        "                    if batch_idx % print_freq == 0:\n",
        "                        print(f\"Epoch [{epoch+1}/{num_epochs}], Batch [{batch_idx}], Loss: {loss.item():.4f}\") # Printing loss\n",
        "                elif verbose == 1 and batch_idx == len(data_loader) - 1:\n",
        "                    print(f\"Epoch [{epoch+1}/{num_epochs}], Average Loss: {round(sum(batch_loss) / len(batch_loss), 4)}\") # Printing loss\n",
        "\n",
        "            # Store the loss value for this epoch\n",
        "            self.loss_list.append(round(sum(batch_loss) / len(batch_loss), 4))\n",
        "        return\n",
        "\n",
        "\n",
        "    def predict(self, X: pd.DataFrame | np.ndarray) -> np.ndarray:\n",
        "        inputs = torch.tensor(X.values, dtype=torch.float32)\n",
        "        return self.forward(inputs)\n",
        "\n",
        "\n",
        "\n"
      ]
    },
    {
      "cell_type": "code",
      "execution_count": 11,
      "metadata": {
        "id": "2dr4zazMOeLZ",
        "outputId": "437aa556-34a6-446c-e6e9-608c754391a4",
        "colab": {
          "base_uri": "https://localhost:8080/"
        }
      },
      "outputs": [
        {
          "output_type": "stream",
          "name": "stdout",
          "text": [
            "Epoch [1/20], Average Loss: 0.361\n",
            "Epoch [2/20], Average Loss: 0.3248\n",
            "Epoch [3/20], Average Loss: 0.3185\n",
            "Epoch [4/20], Average Loss: 0.3151\n",
            "Epoch [5/20], Average Loss: 0.3129\n",
            "Epoch [6/20], Average Loss: 0.3111\n",
            "Epoch [7/20], Average Loss: 0.3098\n",
            "Epoch [8/20], Average Loss: 0.3076\n",
            "Epoch [9/20], Average Loss: 0.306\n",
            "Epoch [10/20], Average Loss: 0.3057\n",
            "Epoch [11/20], Average Loss: 0.3045\n",
            "Epoch [12/20], Average Loss: 0.3036\n",
            "Epoch [13/20], Average Loss: 0.3028\n",
            "Epoch [14/20], Average Loss: 0.3023\n",
            "Epoch [15/20], Average Loss: 0.302\n",
            "Epoch [16/20], Average Loss: 0.301\n",
            "Epoch [17/20], Average Loss: 0.3005\n",
            "Epoch [18/20], Average Loss: 0.3008\n",
            "Epoch [19/20], Average Loss: 0.3\n",
            "Epoch [20/20], Average Loss: 0.2997\n"
          ]
        }
      ],
      "source": [
        "# %%timeit\n",
        "\n",
        "# Create an instance of the model\n",
        "torch.manual_seed(random_state)\n",
        "model = BinaryClassificationNN(X_train.shape)\n",
        "model = model.to(device)\n",
        "\n",
        "loss_hists = {}\n",
        "models = {}\n",
        "\n",
        "model.fit(X_train, y_train, learning_rate=0.001, num_epochs=20, batch_size=32, verbose=1)\n",
        "loss_hist = model.loss_list\n",
        "\n",
        "# torch.manual_seed(random_state)\n",
        "# models[32] = BinaryClassificationNN(X_train.shape)\n",
        "# models[32].fit(X_train, y_train, learning_rate=0.001, num_epochs=1000, batch_size=32,verbose=1)\n",
        "# loss_hist[32] = model[32].loss_list\n",
        "\n",
        "# torch.manual_seed(random_state)\n",
        "# models[64] = BinaryClassificationNN(X_train.shape)\n",
        "# models[64].fit(X_train, y_train, learning_rate=0.001, num_epochs=1000, batch_size=64, verbose=1)\n",
        "# loss_hist[64] = model[64].loss_list"
      ]
    },
    {
      "cell_type": "code",
      "execution_count": 13,
      "metadata": {
        "id": "kmwtjyDBOeLa",
        "outputId": "6b02eeee-54c9-4a61-93c3-358b39cb143c",
        "colab": {
          "base_uri": "https://localhost:8080/",
          "height": 472
        }
      },
      "outputs": [
        {
          "output_type": "display_data",
          "data": {
            "text/plain": [
              "<Figure size 640x480 with 1 Axes>"
            ],
            "image/png": "[encoded data removed]"
          },
          "metadata": {}
        }
      ],
      "source": [
        "num_epochs = 20\n",
        "\n",
        "\n",
        "plt.plot(range(1, num_epochs+1), loss_hist, marker='o')\n",
        "plt.title('Training Loss Over Epochs')\n",
        "plt.xlabel('Epoch')\n",
        "plt.ylabel('Loss')\n",
        "plt.grid(True)\n",
        "plt.show()\n",
        "\n",
        "# _, axes = plt.subplots(nrows=1, ncols=2, figsize=(8 * 2, 6 * 1))\n",
        "# axes[0].plot(range(1, num_epochs+1), loss_hists[32], marker='o')\n",
        "# axes[0].set_title('Training Loss Over Epochs with batch_size = 32')\n",
        "# axes[0].set_xlabel('Epoch')\n",
        "# axes[0].set_ylabel('Loss')\n",
        "# axes[0].grid(True)\n",
        "\n",
        "# axes[1].plot(range(1, num_epochs+1), loss_hists[64], marker='o')\n",
        "# axes[1].set_title('Training Loss Over Epochs with batch_size = 64')\n",
        "# axes[1].set_xlabel('Epoch')\n",
        "# axes[1].set_ylabel('Loss')\n",
        "# axes[1].grid(True)\n",
        "\n",
        "plt.show()"
      ]
    },
    {
      "cell_type": "code",
      "execution_count": null,
      "metadata": {
        "id": "9J-oKO2qOeLa",
        "outputId": "ab1d183c-7a14-4e1b-9a8c-6c2274a5826d"
      },
      "outputs": [
        {
          "data": {
            "text/plain": [
              "{32: [0.3578,\n",
              "  0.3243,\n",
              "  0.3188,\n",
              "  0.3152,\n",
              "  0.3129,\n",
              "  0.3114,\n",
              "  0.3098,\n",
              "  0.3086,\n",
              "  0.3079,\n",
              "  0.3067,\n",
              "  0.3059,\n",
              "  0.305,\n",
              "  0.3042,\n",
              "  0.3032,\n",
              "  0.3025,\n",
              "  0.302,\n",
              "  0.3016,\n",
              "  0.301,\n",
              "  0.3002,\n",
              "  0.3002],\n",
              " 64: [0.3704,\n",
              "  0.3274,\n",
              "  0.3205,\n",
              "  0.3164,\n",
              "  0.3137,\n",
              "  0.3118,\n",
              "  0.31,\n",
              "  0.3087,\n",
              "  0.3076,\n",
              "  0.3059,\n",
              "  0.3054,\n",
              "  0.304,\n",
              "  0.3029,\n",
              "  0.3024,\n",
              "  0.3014,\n",
              "  0.3011,\n",
              "  0.3003,\n",
              "  0.2994,\n",
              "  0.2986,\n",
              "  0.2977]}"
            ]
          },
          "execution_count": 104,
          "metadata": {},
          "output_type": "execute_result"
        }
      ],
      "source": [
        "loss_hist"
      ]
    },
    {
      "cell_type": "code",
      "execution_count": null,
      "metadata": {
        "id": "9TY02p-FOeLa",
        "outputId": "0527b51b-5e84-4f8e-9a75-9072dfa24797"
      },
      "outputs": [
        {
          "data": {
            "text/plain": [
              "tensor([[0.9768],\n",
              "        [0.0963],\n",
              "        [0.0767],\n",
              "        ...,\n",
              "        [0.6901],\n",
              "        [0.9976],\n",
              "        [0.9967]], grad_fn=<SigmoidBackward0>)"
            ]
          },
          "execution_count": 95,
          "metadata": {},
          "output_type": "execute_result"
        }
      ],
      "source": [
        "model.predict(X_train)"
      ]
    },
    {
      "cell_type": "code",
      "execution_count": null,
      "metadata": {
        "id": "OSe1IEXuOeLa",
        "outputId": "e3bcf323-823b-4646-e754-ac8f3954f28a"
      },
      "outputs": [
        {
          "name": "stdout",
          "output_type": "stream",
          "text": [
            "Train AUC = 0.9450248903279332\n"
          ]
        }
      ],
      "source": [
        "print(f'Train AUC = {roc_auc_score(y_train, model.predict(X_train).detach().numpy())}')"
      ]
    },
    {
      "cell_type": "code",
      "execution_count": null,
      "metadata": {
        "id": "I6eeTVUtOeLa",
        "outputId": "0a393d42-8337-44a6-da92-0a6331fa462c"
      },
      "outputs": [
        {
          "name": "stdout",
          "output_type": "stream",
          "text": [
            "Test AUC = 0.9296571520639196\n"
          ]
        }
      ],
      "source": [
        "print(f'Test AUC = {roc_auc_score(y_test, model.predict(X_test).detach().numpy())}')"
      ]
    },
    {
      "cell_type": "code",
      "execution_count": null,
      "metadata": {
        "id": "Ei8N7Dt7OeLa",
        "outputId": "57c9faa6-46e7-46c2-d6b1-0a9eb11ebe96"
      },
      "outputs": [
        {
          "data": {
            "image/png": "[encoded data removed]",
            "text/plain": [
              "<Figure size 640x480 with 1 Axes>"
            ]
          },
          "metadata": {},
          "output_type": "display_data"
        }
      ],
      "source": [
        "plt.plot(range(1, num_epochs+1), loss_list, marker='o')\n",
        "plt.title('Training Loss Over Epochs')\n",
        "plt.xlabel('Epoch')\n",
        "plt.ylabel('Loss')\n",
        "plt.grid(True)\n",
        "plt.show()"
      ]
    }
  ],
  "metadata": {
    "kernelspec": {
      "display_name": "Python 3",
      "name": "python3"
    },
    "language_info": {
      "codemirror_mode": {
        "name": "ipython",
        "version": 3
      },
      "file_extension": ".py",
      "mimetype": "text/x-python",
      "name": "python",
      "nbconvert_exporter": "python",
      "pygments_lexer": "ipython3",
      "version": "3.11.7"
    },
    "colab": {
      "provenance": []
    }
  },
  "nbformat": 4,
  "nbformat_minor": 0
}