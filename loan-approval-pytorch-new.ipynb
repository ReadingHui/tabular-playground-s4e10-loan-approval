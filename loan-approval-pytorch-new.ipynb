{
  "cells": [
    {
      "cell_type": "code",
      "execution_count": 1,
      "metadata": {
        "id": "0awsat54Op_J"
      },
      "outputs": [],
      "source": [
        "# Google Colab preparation\n",
        "\n",
        "%%capture\n",
        "\n",
        "!pip install scikit-optimize\n",
        "!pip install imblearn\n",
        "\n",
        "!git clone https://github.com/ReadingHui/tabular-playground-s4e10-loan-approval\n",
        "\n",
        "import sys\n",
        "sys.path.insert(0,'/content/tabular-playground-s4e10-loan-approval')"
      ]
    },
    {
      "cell_type": "code",
      "execution_count": 2,
      "metadata": {
        "colab": {
          "base_uri": "https://localhost:8080/"
        },
        "id": "9M9PSTkQOeLX",
        "outputId": "9a78e99b-7fa8-4614-d9c3-bb093d0f5e16"
      },
      "outputs": [
        {
          "output_type": "stream",
          "name": "stdout",
          "text": [
            "Using cpu device\n"
          ]
        }
      ],
      "source": [
        "import numpy as np # linear algebra\n",
        "import pandas as pd # data processing, CSV file I/O (e.g. pd.read_csv)\n",
        "\n",
        "from sklearn.metrics import roc_auc_score\n",
        "from sklearn.model_selection import train_test_split, KFold\n",
        "from sklearn.preprocessing import StandardScaler\n",
        "from skopt import BayesSearchCV\n",
        "from skopt.space import Real, Integer, Categorical\n",
        "from imblearn.over_sampling import RandomOverSampler\n",
        "\n",
        "import matplotlib.pyplot as plt\n",
        "import preprocess\n",
        "\n",
        "import torch\n",
        "from torch import nn\n",
        "from torch import optim\n",
        "import torch.utils.data as data_utils\n",
        "device = (\n",
        "    \"cuda\"\n",
        "    if torch.cuda.is_available()\n",
        "    else \"mps\"\n",
        "    if torch.backends.mps.is_available()\n",
        "    else \"cpu\"\n",
        ")\n",
        "print(f\"Using {device} device\")"
      ]
    },
    {
      "cell_type": "markdown",
      "metadata": {
        "id": "7dj3Al85OeLY"
      },
      "source": [
        "# Global Variables"
      ]
    },
    {
      "cell_type": "code",
      "execution_count": 3,
      "metadata": {
        "id": "XYxLDkedOeLY"
      },
      "outputs": [],
      "source": [
        "# In Google Colab\n",
        "train_path = '/content/tabular-playground-s4e10-loan-approval/train.csv'\n",
        "test_path = '/content/tabular-playground-s4e10-loan-approval/test.csv'\n",
        "\n",
        "# # In Local machine\n",
        "# train_path = 'train.csv'\n",
        "# test_path = 'test.csv'\n",
        "\n",
        "random_state = 1048576\n",
        "target = 'loan_status'\n",
        "cat_features = [\n",
        "    'person_home_ownership',\n",
        "    'loan_intent',\n",
        "    'loan_grade',\n",
        "    'cb_person_default_on_file'\n",
        "]\n",
        "\n",
        "num_features = [\n",
        "    'person_age',\n",
        "    'person_income',\n",
        "    'person_emp_length',\n",
        "    'loan_amnt',\n",
        "    'loan_int_rate',\n",
        "    'loan_percent_income',\n",
        "    'cb_person_cred_hist_length'\n",
        "]"
      ]
    },
    {
      "cell_type": "markdown",
      "metadata": {
        "id": "HJ-AkjE4OeLZ"
      },
      "source": [
        "# Data Loading and Preprocessing"
      ]
    },
    {
      "cell_type": "code",
      "execution_count": 4,
      "metadata": {
        "colab": {
          "base_uri": "https://localhost:8080/"
        },
        "id": "Y66xYo0EOeLZ",
        "outputId": "b9891975-2703-42ad-f9da-c9a7909507f3"
      },
      "outputs": [
        {
          "output_type": "stream",
          "name": "stdout",
          "text": [
            "Shape of X_train is: (52780, 11); shape of y_train is: (52780,)\n",
            "Shape of X_test is: (5865, 11); shape of y_test is: (5865,)\n",
            "New shape of X_train is: (52639, 11); New shape of y_train is: (52639,)\n",
            "Target distribution before oversampling:  (0: 14.22%,  1: 85.78%)\n",
            "X_train shape after oversampling: (90312, 26);  y_train shape after oversampling: (90312, 26)\n",
            "Target distribution after oversampling:  (0: 50.0%,  1: 50.0%)\n",
            "Shape of X_train is: (81280, 26);  shape of y_train is: (81280,)\n",
            "Shape of X_val is: (9032, 26);  shape of y_test is: (9032,)\n"
          ]
        }
      ],
      "source": [
        "# Data Loading\n",
        "X_train, X_test, y_train, y_test = preprocess.DataImport.get_train_test(\n",
        "    train_path, index_col=0, target=target,\n",
        "    random_state=random_state, verbose=1\n",
        "    )\n",
        "\n",
        "# Remove outliers\n",
        "X_train, y_train = preprocess.Outliers.remove_outliers(\n",
        "    X_train, y_train, verbose=1\n",
        "    )\n",
        "\n",
        "# One-Hot Encode\n",
        "encoder = preprocess.CategoryEncoder(cat_features=cat_features,\n",
        "                                     method='one_hot')\n",
        "X_train = encoder.fit_transform(X_train)\n",
        "X_test = encoder.transform(X_test)\n",
        "\n",
        "# Standard Scaling\n",
        "scaler = StandardScaler()\n",
        "features = X_train.columns\n",
        "X_train = pd.DataFrame(scaler.fit_transform(X_train), columns=features)\n",
        "X_test = pd.DataFrame(scaler.transform(X_test), columns=features)\n",
        "\n",
        "# Oversampling\n",
        "print(f'Target distribution before oversampling: ',\n",
        "      f'(0: {round(y_train.sum() / y_train.size * 100, 2)}%, ',\n",
        "      f'1: {round((1 - y_train.sum() / y_train.size) * 100, 2)}%)')\n",
        "oversampler = RandomOverSampler(random_state=random_state)\n",
        "X_train, y_train = oversampler.fit_resample(X_train, y_train)\n",
        "print(f'X_train shape after oversampling: {X_train.shape}; ',\n",
        "      f'y_train shape after oversampling: {X_train.shape}')\n",
        "print(f'Target distribution after oversampling: ',\n",
        "      f'(0: {round(y_train.sum() / y_train.size * 100, 2)}%, ',\n",
        "      f'1: {round((1 - y_train.sum() / y_train.size) * 100, 2)}%)')\n",
        "\n",
        "# Train - Validation Split\n",
        "X_train, X_val, y_train, y_val = train_test_split(\n",
        "            X_train, y_train, test_size=0.1, random_state=random_state)\n",
        "\n",
        "print(f'Shape of X_train is: {X_train.shape}; ',\n",
        "      f'shape of y_train is: {y_train.shape}')\n",
        "print(f'Shape of X_val is: {X_val.shape}; ',\n",
        "      f'shape of y_test is: {y_val.shape}')\n",
        "\n",
        "# Create data loaders\n",
        "def create_data_loader(X: pd.DataFrame | np.ndarray, y: pd.Series | np.ndarray,\n",
        "                       batch_size: int = 32, shuffle: bool = True):\n",
        "    X = torch.tensor(X.values, dtype=torch.float32)\n",
        "    y = torch.tensor(y.values, dtype=torch.float32)\n",
        "    data_tensor = data_utils.TensorDataset(X, y)\n",
        "    data_loader = data_utils.DataLoader(dataset=data_tensor,\n",
        "                                         batch_size=batch_size,\n",
        "                                         shuffle=shuffle)\n",
        "    return data_loader\n",
        "\n",
        "train_loader = create_data_loader(X_train, y_train)\n",
        "val_loader = create_data_loader(X_val, y_val)\n",
        "test_loader = create_data_loader(X_test, y_test)"
      ]
    },
    {
      "cell_type": "code",
      "source": [
        "train_loader.dataset.tensors[1]"
      ],
      "metadata": {
        "colab": {
          "base_uri": "https://localhost:8080/"
        },
        "id": "aiboImNsp7WL",
        "outputId": "5963aaec-08ef-48dd-af10-013cebac422f"
      },
      "execution_count": 5,
      "outputs": [
        {
          "output_type": "execute_result",
          "data": {
            "text/plain": [
              "tensor([0., 0., 0.,  ..., 1., 0., 0.])"
            ]
          },
          "metadata": {},
          "execution_count": 5
        }
      ]
    },
    {
      "cell_type": "markdown",
      "metadata": {
        "id": "9sTNxLbAOeLZ"
      },
      "source": [
        "# Model building"
      ]
    },
    {
      "cell_type": "code",
      "execution_count": 6,
      "metadata": {
        "id": "g_1S_qlEOeLZ"
      },
      "outputs": [],
      "source": [
        "# Define the neural network model\n",
        "class BinaryClassificationNN(nn.Module):\n",
        "    def __init__(self):\n",
        "        super(BinaryClassificationNN, self).__init__()\n",
        "\n",
        "        # Define the layers\n",
        "        self.fc1 = nn.Linear(in_features=26, out_features=32)\n",
        "        self.fc2 = nn.Linear(in_features=32, out_features=16)\n",
        "        self.fc3 = nn.Linear(in_features=16, out_features=8)\n",
        "        self.fc4 = nn.Linear(in_features=8, out_features=1)\n",
        "\n",
        "        # Activation function\n",
        "        self.relu = nn.ReLU()\n",
        "\n",
        "        # Sigmoid for probability output\n",
        "        self.sigmoid = nn.Sigmoid()\n",
        "\n",
        "        # Initialize weights\n",
        "        self.init_weights()  # Custom weight initialization\n",
        "\n",
        "    def init_weights(self):\n",
        "        # Initialize weights with Xavier (Glorot) initialization\n",
        "        nn.init.xavier_uniform_(self.fc1.weight)\n",
        "        nn.init.xavier_uniform_(self.fc2.weight)\n",
        "        nn.init.xavier_uniform_(self.fc3.weight)\n",
        "        nn.init.xavier_uniform_(self.fc4.weight)\n",
        "\n",
        "        # Optionally, initialize biases to zero\n",
        "        nn.init.zeros_(self.fc1.bias)\n",
        "        nn.init.zeros_(self.fc2.bias)\n",
        "        nn.init.zeros_(self.fc3.bias)\n",
        "        nn.init.zeros_(self.fc4.bias)\n",
        "\n",
        "\n",
        "    def forward(self, X: pd.DataFrame | np.ndarray) -> pd.DataFrame | np.ndarray:\n",
        "        X = self.relu(self.fc1(X))\n",
        "        X = self.relu(self.fc2(X))\n",
        "        X = self.relu(self.fc3(X))\n",
        "        X = self.sigmoid(self.fc4(X))  # Sigmoid for binary classification\n",
        "        return X\n",
        "\n"
      ]
    },
    {
      "cell_type": "markdown",
      "metadata": {
        "id": "9n9InRN3ruI0"
      },
      "source": [
        "# Model Training"
      ]
    },
    {
      "cell_type": "code",
      "source": [
        "def save_checkpoint(model: nn.Module, optimizer: optim.Optimizer,\n",
        "                    epoch: int, loss: float, score: float,\n",
        "                    filename: str = 'checkpoint.pth', verbose: bool = False):\n",
        "    torch.save({\n",
        "        'epoch': epoch + 1,\n",
        "        'model_state_dict': model.state_dict(),\n",
        "        'optimizer_state_dict': optimizer.state_dict(),\n",
        "        'loss': loss,\n",
        "        'score': score\n",
        "    }, filename)\n",
        "    if verbose:\n",
        "        print(f'Checkpoint saved at epoch {epoch + 1}')\n",
        "\n",
        "def load_checkpoint(filename: str = 'checkpoint.pth'):\n",
        "    model = BinaryClassificationNN()\n",
        "    optimizer = optim.Adam(model.parameters())\n",
        "    checkpoint = torch.load(filename, weights_only=False)\n",
        "    model.load_state_dict(checkpoint['model_state_dict'])\n",
        "    optimizer.load_state_dict(checkpoint['optimizer_state_dict'])\n",
        "    epoch = checkpoint['epoch']\n",
        "    loss = checkpoint['loss']\n",
        "    return model, optimizer, epoch, loss"
      ],
      "metadata": {
        "id": "oWQHaXe65YxP"
      },
      "execution_count": 7,
      "outputs": []
    },
    {
      "cell_type": "code",
      "source": [
        "class EarlyStopping:\n",
        "    def __init__(self, patience: int = 5, method: str = 'loss'):\n",
        "        self.patience = patience\n",
        "        self.method = method\n",
        "        self.counter = 0\n",
        "        self.best_value = np.inf\n",
        "        self.early_stop = False\n",
        "\n",
        "    def __call__(self, val_value):\n",
        "        if self.method == 'loss':\n",
        "            val_value = val_value\n",
        "        elif self.method == 'score':\n",
        "            val_value = -val_value\n",
        "        if val_value < self.best_value:\n",
        "            self.best_value = val_value\n",
        "            self.counter = 0\n",
        "        else:\n",
        "            self.counter += 1\n",
        "            if self.counter >= self.patience:\n",
        "                self.early_stop = True"
      ],
      "metadata": {
        "id": "LlyWVmHK50iD"
      },
      "execution_count": 8,
      "outputs": []
    },
    {
      "cell_type": "code",
      "execution_count": 9,
      "metadata": {
        "id": "5f9aRW7PruI0"
      },
      "outputs": [],
      "source": [
        "def model_score(model: nn.Module,\n",
        "               data_loader: data_utils.DataLoader,\n",
        "                device: str = device):\n",
        "    dataset = data_loader.dataset\n",
        "\n",
        "    model.eval()\n",
        "    with torch.no_grad():\n",
        "        # Evaluate inputs\n",
        "        outputs = model(dataset.tensors[0])\n",
        "        labels = dataset.tensors[1]\n",
        "\n",
        "        # Calculate score\n",
        "        score = roc_auc_score(labels, outputs)\n",
        "    return score\n",
        "\n",
        "def train_model(model: nn.Module,\n",
        "                train_loader: data_utils.DataLoader,\n",
        "                eval_loader: data_utils.DataLoader = None,\n",
        "                num_epochs: int = 10, learning_rate: float = 0.01,\n",
        "                weight_decay: float = 1e-3,\n",
        "                criterion: torch.nn.modules.loss = nn.BCELoss(),\n",
        "                device: str = 'cpu',\n",
        "                early_stopping_method: str = 'loss',\n",
        "                early_stopping_patience: int = 5,\n",
        "                save_path: str = None,\n",
        "                verbose: int = 1):\n",
        "    # Initialize optimizer, early_stopping and history parameters\n",
        "    optimizer = optim.Adam(model.parameters(),\n",
        "                           lr=learning_rate,\n",
        "                           weight_decay=weight_decay)\n",
        "    early_stopping = EarlyStopping(patience=early_stopping_patience,\n",
        "                                   method=early_stopping_method)\n",
        "    best_val = np.inf\n",
        "\n",
        "    losses = {\"train\": [], \"val\": []}\n",
        "    scores = {\"train\": [], \"val\": []}\n",
        "\n",
        "    for epoch in range(num_epochs):  # Training loop\n",
        "            # Training phrase\n",
        "            total_train_loss = 0\n",
        "\n",
        "            model.train()  # Set the model to training mode\n",
        "            for batch_idx, (inputs, labels) in enumerate(train_loader):\n",
        "                # Cast to device\n",
        "                inputs, labels = inputs.to(device), labels.to(device)\n",
        "\n",
        "                # Forward pass\n",
        "                outputs = model(inputs)\n",
        "                outputs = torch.squeeze(outputs)\n",
        "\n",
        "                # Compute the loss\n",
        "                loss = criterion(outputs, labels)\n",
        "\n",
        "                # Backpropagation and optimization\n",
        "                optimizer.zero_grad()  # Clear previous gradients\n",
        "                loss.backward() # Backpropagate\n",
        "                optimizer.step() # Update weights\n",
        "\n",
        "                # Rolling sum of training loss\n",
        "                total_train_loss += loss.item()\n",
        "\n",
        "                # If large verbose print batch loss\n",
        "                if verbose > 1:\n",
        "                    print_freq = num_epochs // 10\n",
        "                    if batch_idx % print_freq == 0:\n",
        "                        print(f\"Epoch [{epoch+1}/{num_epochs}], \\\n",
        "                        Batch [{batch_idx}], \\\n",
        "                        Loss: {loss.item():.4f}\") # Printing loss\n",
        "\n",
        "            # Store the loss value for this epoch\n",
        "            average_train_loss = round(total_train_loss / len(train_loader), 4)\n",
        "            losses['train'].append(average_train_loss)\n",
        "\n",
        "            # Evaluate training score\n",
        "            train_score = round(model_score(model, train_loader), 4)\n",
        "            scores['train'].append(train_score)\n",
        "            if verbose > 0 and not eval_loader:\n",
        "                print(f\"Epoch [{epoch+1}/{num_epochs}], \",\n",
        "                    f\"Average Train Loss: {average_train_loss}, \",\n",
        "                    f\"Training Score: {train_score}.\") # Printing loss\n",
        "\n",
        "            if eval_loader:\n",
        "                total_val_loss = 0 # Initiate total_val loss\n",
        "\n",
        "                model.eval()  # Set the model to evaluation mode\n",
        "                # Evaluate the model on the validation set\n",
        "                for inputs, labels in eval_loader: # For each batch\n",
        "                    # Cast to device\n",
        "                    inputs, labels = inputs.to(device), labels.to(device)\n",
        "\n",
        "                    # Forward pass\n",
        "                    outputs = model(inputs)\n",
        "                    outputs = torch.squeeze(outputs)\n",
        "\n",
        "                    # Compute the loss\n",
        "                    loss = criterion(outputs, labels)\n",
        "                    total_val_loss += loss.item() # Rolling sum of training loss\n",
        "\n",
        "                # Store the loss value for this epoch\n",
        "                average_val_loss = round(total_val_loss / len(eval_loader), 4)\n",
        "                losses['val'].append(average_val_loss)\n",
        "\n",
        "                # Evaluate validation score\n",
        "                val_score = round(model_score(model, eval_loader), 4)\n",
        "                scores['val'].append(val_score)\n",
        "\n",
        "                if verbose > 0:\n",
        "                    print(f\"Epoch [{epoch+1}/{num_epochs}], \",\n",
        "                    f\"Average Train Loss: {average_train_loss}, \",\n",
        "                    f\"Training Score: {train_score}, \",\n",
        "                    f\"Average Val Loss: {average_val_loss}, \",\n",
        "                    f\"Validation Score: {val_score}.\") # Printing loss\n",
        "\n",
        "            # Update best model\n",
        "            if eval_loader:\n",
        "                compare_set = 'val'\n",
        "            else:\n",
        "                compare_set = 'train'\n",
        "            if early_stopping_method == 'loss':\n",
        "                compare_val = losses[compare_set][-1]\n",
        "            elif early_stopping_method == 'score':\n",
        "                compare_val = - scores[compare_set][-1]\n",
        "            if compare_val < best_val:\n",
        "                best_val = compare_val\n",
        "                save_checkpoint(model, optimizer, epoch,\n",
        "                                losses[compare_set][-1],\n",
        "                                scores[compare_set][-1],\n",
        "                                save_path, verbose)\n",
        "\n",
        "\n",
        "            # Early Stopping\n",
        "            if early_stopping_method == 'loss':\n",
        "                early_stopping(average_val_loss)\n",
        "            elif early_stopping_method == 'score':\n",
        "                early_stopping(val_score)\n",
        "            if early_stopping.early_stop:\n",
        "                print(f\"Early stopping triggered, \",\n",
        "                      f\"validation {early_stopping_method} not improved \",\n",
        "                      f\"after {early_stopping_patience} epochs\")\n",
        "                break\n",
        "    # Pack history\n",
        "    history = {}\n",
        "    history['loss'] = losses\n",
        "    history['scores'] = scores\n",
        "\n",
        "    return history"
      ]
    },
    {
      "cell_type": "code",
      "execution_count": 10,
      "metadata": {
        "colab": {
          "base_uri": "https://localhost:8080/"
        },
        "id": "wADiH_TsruI0",
        "outputId": "d8c2c879-1ff8-4d51-d02a-192670e23c20"
      },
      "outputs": [
        {
          "output_type": "stream",
          "name": "stdout",
          "text": [
            "Epoch [1/1000],  Average Train Loss: 0.361,  Training Score: 0.9294,  Average Val Loss: 0.3427,  Validation Score: 0.9239.\n",
            "Checkpoint saved at epoch 1\n",
            "Epoch [2/1000],  Average Train Loss: 0.3248,  Training Score: 0.9332,  Average Val Loss: 0.3303,  Validation Score: 0.928.\n",
            "Checkpoint saved at epoch 2\n",
            "Epoch [3/1000],  Average Train Loss: 0.3184,  Training Score: 0.9347,  Average Val Loss: 0.326,  Validation Score: 0.9291.\n",
            "Checkpoint saved at epoch 3\n",
            "Epoch [4/1000],  Average Train Loss: 0.3151,  Training Score: 0.9352,  Average Val Loss: 0.3246,  Validation Score: 0.9296.\n",
            "Checkpoint saved at epoch 4\n",
            "Epoch [5/1000],  Average Train Loss: 0.3125,  Training Score: 0.9358,  Average Val Loss: 0.3241,  Validation Score: 0.9292.\n",
            "Epoch [6/1000],  Average Train Loss: 0.3112,  Training Score: 0.9369,  Average Val Loss: 0.3231,  Validation Score: 0.9312.\n",
            "Checkpoint saved at epoch 6\n",
            "Epoch [7/1000],  Average Train Loss: 0.31,  Training Score: 0.9371,  Average Val Loss: 0.3215,  Validation Score: 0.9306.\n",
            "Epoch [8/1000],  Average Train Loss: 0.3088,  Training Score: 0.9374,  Average Val Loss: 0.3235,  Validation Score: 0.9308.\n",
            "Epoch [9/1000],  Average Train Loss: 0.3074,  Training Score: 0.9375,  Average Val Loss: 0.322,  Validation Score: 0.9313.\n",
            "Checkpoint saved at epoch 9\n",
            "Epoch [10/1000],  Average Train Loss: 0.3066,  Training Score: 0.9389,  Average Val Loss: 0.3177,  Validation Score: 0.9331.\n",
            "Checkpoint saved at epoch 10\n",
            "Epoch [11/1000],  Average Train Loss: 0.3049,  Training Score: 0.9395,  Average Val Loss: 0.3158,  Validation Score: 0.9328.\n",
            "Epoch [12/1000],  Average Train Loss: 0.3051,  Training Score: 0.9385,  Average Val Loss: 0.3169,  Validation Score: 0.9329.\n",
            "Epoch [13/1000],  Average Train Loss: 0.3042,  Training Score: 0.9398,  Average Val Loss: 0.3162,  Validation Score: 0.934.\n",
            "Checkpoint saved at epoch 13\n",
            "Epoch [14/1000],  Average Train Loss: 0.3033,  Training Score: 0.9387,  Average Val Loss: 0.3151,  Validation Score: 0.934.\n",
            "Epoch [15/1000],  Average Train Loss: 0.3029,  Training Score: 0.9399,  Average Val Loss: 0.3133,  Validation Score: 0.9341.\n",
            "Checkpoint saved at epoch 15\n",
            "Epoch [16/1000],  Average Train Loss: 0.3025,  Training Score: 0.9405,  Average Val Loss: 0.3172,  Validation Score: 0.9349.\n",
            "Checkpoint saved at epoch 16\n",
            "Epoch [17/1000],  Average Train Loss: 0.3024,  Training Score: 0.9402,  Average Val Loss: 0.3115,  Validation Score: 0.9347.\n",
            "Epoch [18/1000],  Average Train Loss: 0.3017,  Training Score: 0.941,  Average Val Loss: 0.3178,  Validation Score: 0.9336.\n",
            "Epoch [19/1000],  Average Train Loss: 0.3014,  Training Score: 0.9413,  Average Val Loss: 0.312,  Validation Score: 0.9346.\n",
            "Epoch [20/1000],  Average Train Loss: 0.3009,  Training Score: 0.9413,  Average Val Loss: 0.3138,  Validation Score: 0.9344.\n",
            "Epoch [21/1000],  Average Train Loss: 0.3003,  Training Score: 0.9412,  Average Val Loss: 0.3115,  Validation Score: 0.935.\n",
            "Checkpoint saved at epoch 21\n",
            "Epoch [22/1000],  Average Train Loss: 0.3001,  Training Score: 0.9418,  Average Val Loss: 0.3107,  Validation Score: 0.9351.\n",
            "Checkpoint saved at epoch 22\n",
            "Epoch [23/1000],  Average Train Loss: 0.2994,  Training Score: 0.9406,  Average Val Loss: 0.3209,  Validation Score: 0.932.\n",
            "Epoch [24/1000],  Average Train Loss: 0.2987,  Training Score: 0.94,  Average Val Loss: 0.3132,  Validation Score: 0.9347.\n",
            "Epoch [25/1000],  Average Train Loss: 0.2986,  Training Score: 0.9425,  Average Val Loss: 0.3121,  Validation Score: 0.9355.\n",
            "Checkpoint saved at epoch 25\n",
            "Epoch [26/1000],  Average Train Loss: 0.2977,  Training Score: 0.9422,  Average Val Loss: 0.3114,  Validation Score: 0.9354.\n",
            "Epoch [27/1000],  Average Train Loss: 0.2976,  Training Score: 0.9423,  Average Val Loss: 0.31,  Validation Score: 0.9352.\n",
            "Epoch [28/1000],  Average Train Loss: 0.2976,  Training Score: 0.9423,  Average Val Loss: 0.3126,  Validation Score: 0.9351.\n",
            "Epoch [29/1000],  Average Train Loss: 0.2977,  Training Score: 0.943,  Average Val Loss: 0.3069,  Validation Score: 0.9363.\n",
            "Checkpoint saved at epoch 29\n",
            "Epoch [30/1000],  Average Train Loss: 0.2973,  Training Score: 0.9432,  Average Val Loss: 0.3117,  Validation Score: 0.9351.\n",
            "Epoch [31/1000],  Average Train Loss: 0.2961,  Training Score: 0.9433,  Average Val Loss: 0.308,  Validation Score: 0.9369.\n",
            "Checkpoint saved at epoch 31\n",
            "Epoch [32/1000],  Average Train Loss: 0.2964,  Training Score: 0.9423,  Average Val Loss: 0.3122,  Validation Score: 0.9342.\n",
            "Epoch [33/1000],  Average Train Loss: 0.2961,  Training Score: 0.9431,  Average Val Loss: 0.31,  Validation Score: 0.9355.\n",
            "Epoch [34/1000],  Average Train Loss: 0.2959,  Training Score: 0.9434,  Average Val Loss: 0.3059,  Validation Score: 0.937.\n",
            "Checkpoint saved at epoch 34\n",
            "Epoch [35/1000],  Average Train Loss: 0.2952,  Training Score: 0.9431,  Average Val Loss: 0.3098,  Validation Score: 0.9352.\n",
            "Epoch [36/1000],  Average Train Loss: 0.2952,  Training Score: 0.9436,  Average Val Loss: 0.3075,  Validation Score: 0.9362.\n",
            "Epoch [37/1000],  Average Train Loss: 0.2948,  Training Score: 0.943,  Average Val Loss: 0.3117,  Validation Score: 0.9352.\n",
            "Epoch [38/1000],  Average Train Loss: 0.2952,  Training Score: 0.9436,  Average Val Loss: 0.3096,  Validation Score: 0.9362.\n",
            "Epoch [39/1000],  Average Train Loss: 0.2942,  Training Score: 0.9438,  Average Val Loss: 0.308,  Validation Score: 0.9365.\n",
            "Epoch [40/1000],  Average Train Loss: 0.2941,  Training Score: 0.9438,  Average Val Loss: 0.3055,  Validation Score: 0.9369.\n",
            "Epoch [41/1000],  Average Train Loss: 0.2941,  Training Score: 0.9451,  Average Val Loss: 0.3074,  Validation Score: 0.9381.\n",
            "Checkpoint saved at epoch 41\n",
            "Epoch [42/1000],  Average Train Loss: 0.2935,  Training Score: 0.9438,  Average Val Loss: 0.3059,  Validation Score: 0.9371.\n",
            "Epoch [43/1000],  Average Train Loss: 0.2936,  Training Score: 0.9446,  Average Val Loss: 0.3051,  Validation Score: 0.9372.\n",
            "Epoch [44/1000],  Average Train Loss: 0.2933,  Training Score: 0.944,  Average Val Loss: 0.3089,  Validation Score: 0.9359.\n",
            "Epoch [45/1000],  Average Train Loss: 0.2931,  Training Score: 0.9446,  Average Val Loss: 0.3037,  Validation Score: 0.9383.\n",
            "Checkpoint saved at epoch 45\n",
            "Epoch [46/1000],  Average Train Loss: 0.2925,  Training Score: 0.9437,  Average Val Loss: 0.3048,  Validation Score: 0.9377.\n",
            "Epoch [47/1000],  Average Train Loss: 0.2924,  Training Score: 0.9456,  Average Val Loss: 0.305,  Validation Score: 0.9389.\n",
            "Checkpoint saved at epoch 47\n",
            "Epoch [48/1000],  Average Train Loss: 0.2925,  Training Score: 0.9444,  Average Val Loss: 0.3092,  Validation Score: 0.9362.\n",
            "Epoch [49/1000],  Average Train Loss: 0.2927,  Training Score: 0.9448,  Average Val Loss: 0.3038,  Validation Score: 0.938.\n",
            "Epoch [50/1000],  Average Train Loss: 0.2918,  Training Score: 0.9457,  Average Val Loss: 0.306,  Validation Score: 0.9373.\n",
            "Epoch [51/1000],  Average Train Loss: 0.2917,  Training Score: 0.9455,  Average Val Loss: 0.3057,  Validation Score: 0.9379.\n",
            "Epoch [52/1000],  Average Train Loss: 0.2917,  Training Score: 0.9451,  Average Val Loss: 0.3036,  Validation Score: 0.9381.\n",
            "Epoch [53/1000],  Average Train Loss: 0.2907,  Training Score: 0.9444,  Average Val Loss: 0.3069,  Validation Score: 0.9368.\n",
            "Epoch [54/1000],  Average Train Loss: 0.2913,  Training Score: 0.9449,  Average Val Loss: 0.3049,  Validation Score: 0.9372.\n",
            "Epoch [55/1000],  Average Train Loss: 0.2909,  Training Score: 0.9456,  Average Val Loss: 0.3046,  Validation Score: 0.9385.\n",
            "Epoch [56/1000],  Average Train Loss: 0.2911,  Training Score: 0.9464,  Average Val Loss: 0.3025,  Validation Score: 0.9385.\n",
            "Epoch [57/1000],  Average Train Loss: 0.2905,  Training Score: 0.9459,  Average Val Loss: 0.3035,  Validation Score: 0.939.\n",
            "Checkpoint saved at epoch 57\n",
            "Epoch [58/1000],  Average Train Loss: 0.2902,  Training Score: 0.9452,  Average Val Loss: 0.3041,  Validation Score: 0.9388.\n",
            "Epoch [59/1000],  Average Train Loss: 0.2901,  Training Score: 0.9465,  Average Val Loss: 0.3008,  Validation Score: 0.9395.\n",
            "Checkpoint saved at epoch 59\n",
            "Epoch [60/1000],  Average Train Loss: 0.29,  Training Score: 0.9454,  Average Val Loss: 0.3077,  Validation Score: 0.937.\n",
            "Epoch [61/1000],  Average Train Loss: 0.2899,  Training Score: 0.9459,  Average Val Loss: 0.3043,  Validation Score: 0.938.\n",
            "Epoch [62/1000],  Average Train Loss: 0.2895,  Training Score: 0.9456,  Average Val Loss: 0.3074,  Validation Score: 0.9367.\n",
            "Epoch [63/1000],  Average Train Loss: 0.2895,  Training Score: 0.9461,  Average Val Loss: 0.3028,  Validation Score: 0.9388.\n",
            "Epoch [64/1000],  Average Train Loss: 0.2896,  Training Score: 0.9461,  Average Val Loss: 0.3018,  Validation Score: 0.9389.\n",
            "Epoch [65/1000],  Average Train Loss: 0.2894,  Training Score: 0.9456,  Average Val Loss: 0.3041,  Validation Score: 0.9386.\n",
            "Epoch [66/1000],  Average Train Loss: 0.2896,  Training Score: 0.9467,  Average Val Loss: 0.3008,  Validation Score: 0.9392.\n",
            "Epoch [67/1000],  Average Train Loss: 0.2892,  Training Score: 0.9454,  Average Val Loss: 0.3085,  Validation Score: 0.9367.\n",
            "Epoch [68/1000],  Average Train Loss: 0.2891,  Training Score: 0.946,  Average Val Loss: 0.3044,  Validation Score: 0.9376.\n",
            "Epoch [69/1000],  Average Train Loss: 0.2893,  Training Score: 0.9452,  Average Val Loss: 0.3049,  Validation Score: 0.9383.\n",
            "Early stopping triggered,  validation score not improved  after 10 epochs\n"
          ]
        }
      ],
      "source": [
        "num_epochs = 1000\n",
        "\n",
        "torch.manual_seed(random_state)\n",
        "model = BinaryClassificationNN()\n",
        "model = model.to(device)\n",
        "history = train_model(model,\n",
        "                      train_loader, val_loader,\n",
        "                      num_epochs,\n",
        "                      learning_rate=0.001,\n",
        "                      device=device,\n",
        "                      early_stopping_patience=10,\n",
        "                      early_stopping_method='score',\n",
        "                      save_path='PyTorch_best_model.pt')"
      ]
    },
    {
      "cell_type": "markdown",
      "metadata": {
        "id": "gYUhE9YfruI1"
      },
      "source": [
        "# Loss analysis"
      ]
    },
    {
      "cell_type": "code",
      "execution_count": 11,
      "metadata": {
        "id": "IbFSA2XjruI1"
      },
      "outputs": [],
      "source": [
        "def plot_loss(history, loss: bool = True, score: bool = False):\n",
        "    num_epochs = len(history['loss']['train'])\n",
        "    if not loss and not score:\n",
        "        raise ValueError('Cannot have both loss and score set as False')\n",
        "\n",
        "    if loss:\n",
        "        plt.plot(range(1, num_epochs+1), history['loss']['train'], marker='o')\n",
        "        plt.plot(range(1, num_epochs+1), history['loss']['val'], marker='o')\n",
        "    if score:\n",
        "        plt.plot(range(1, num_epochs+1), history['scores']['train'], marker='x')\n",
        "        plt.plot(range(1, num_epochs+1), history['scores']['val'], marker='x')\n",
        "\n",
        "    if loss and score:\n",
        "        plt.title('Training Loss and Scores Over Epochs')\n",
        "    elif score:\n",
        "        plt.title('Scores Over Epochs')\n",
        "    elif loss:\n",
        "        plt.title('Training Loss Over Epochs')\n",
        "    plt.xlabel('Epoch')\n",
        "    plt.ylabel('Loss')\n",
        "    plt.grid(True)\n",
        "    plt.show()"
      ]
    },
    {
      "cell_type": "code",
      "execution_count": 12,
      "metadata": {
        "colab": {
          "base_uri": "https://localhost:8080/",
          "height": 472
        },
        "id": "CPLueZGFruI1",
        "outputId": "70cffbe1-b9d4-44f9-b73d-0bd1a159775c"
      },
      "outputs": [
        {
          "output_type": "display_data",
          "data": {
            "text/plain": [
              "<Figure size 640x480 with 1 Axes>"
            ],
            "image/png": "[encoded data removed]"
          },
          "metadata": {}
        }
      ],
      "source": [
        "plot_loss(history)"
      ]
    },
    {
      "cell_type": "code",
      "source": [
        "best_model, optimizer, epoch, loss = load_checkpoint('PyTorch_best_model.pt')"
      ],
      "metadata": {
        "id": "UQH5EOR-hi1W"
      },
      "execution_count": 13,
      "outputs": []
    },
    {
      "cell_type": "code",
      "source": [
        "best_model = best_model.to(device)\n",
        "best_model.eval()\n",
        "test_score = round(model_score(model, test_loader), 4)\n",
        "print(f'Test Score: {test_score}')"
      ],
      "metadata": {
        "id": "qhnXg7BLGKIl",
        "colab": {
          "base_uri": "https://localhost:8080/"
        },
        "outputId": "8cd4087d-dcd9-4095-e7e8-1bef2ed5f79f"
      },
      "execution_count": 14,
      "outputs": [
        {
          "output_type": "stream",
          "name": "stdout",
          "text": [
            "Test Score: 0.9233\n"
          ]
        }
      ]
    },
    {
      "cell_type": "code",
      "source": [
        "# Auto terminate session\n",
        "\n",
        "from google.colab import runtime\n",
        "runtime.unassign()"
      ],
      "metadata": {
        "id": "yR-W2KjJJ5Zh"
      },
      "execution_count": null,
      "outputs": []
    }
  ],
  "metadata": {
    "colab": {
      "provenance": []
    },
    "kernelspec": {
      "display_name": "Python 3",
      "name": "python3"
    },
    "language_info": {
      "codemirror_mode": {
        "name": "ipython",
        "version": 3
      },
      "file_extension": ".py",
      "mimetype": "text/x-python",
      "name": "python",
      "nbconvert_exporter": "python",
      "pygments_lexer": "ipython3",
      "version": "3.11.7"
    }
  },
  "nbformat": 4,
  "nbformat_minor": 0
}