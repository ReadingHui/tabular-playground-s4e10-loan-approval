{
  "cells": [
    {
      "cell_type": "code",
      "execution_count": 26,
      "metadata": {
        "id": "0awsat54Op_J"
      },
      "outputs": [],
      "source": [
        "# Google Colab preparation\n",
        "\n",
        "%%capture\n",
        "\n",
        "!pip install scikit-optimize\n",
        "!pip install imblearn\n",
        "\n",
        "!git clone https://github.com/ReadingHui/tabular-playground-s4e10-loan-approval\n",
        "\n",
        "import sys\n",
        "sys.path.insert(0,'/content/tabular-playground-s4e10-loan-approval')"
      ]
    },
    {
      "cell_type": "code",
      "execution_count": 27,
      "metadata": {
        "colab": {
          "base_uri": "https://localhost:8080/"
        },
        "id": "9M9PSTkQOeLX",
        "outputId": "a0c278f4-e7ec-40bf-95db-28a4babccaac"
      },
      "outputs": [
        {
          "output_type": "stream",
          "name": "stdout",
          "text": [
            "Using cuda device\n"
          ]
        }
      ],
      "source": [
        "import numpy as np # linear algebra\n",
        "import pandas as pd # data processing, CSV file I/O (e.g. pd.read_csv)\n",
        "\n",
        "from sklearn.metrics import roc_auc_score\n",
        "from sklearn.model_selection import train_test_split, KFold\n",
        "from sklearn.preprocessing import StandardScaler\n",
        "from skopt import BayesSearchCV\n",
        "from skopt.space import Real, Integer, Categorical\n",
        "from imblearn.over_sampling import RandomOverSampler\n",
        "\n",
        "import matplotlib.pyplot as plt\n",
        "import preprocess\n",
        "\n",
        "import torch\n",
        "from torch import nn\n",
        "from torch import optim\n",
        "import torch.utils.data as data_utils\n",
        "device = (\n",
        "    \"cuda\"\n",
        "    if torch.cuda.is_available()\n",
        "    else \"mps\"\n",
        "    if torch.backends.mps.is_available()\n",
        "    else \"cpu\"\n",
        ")\n",
        "print(f\"Using {device} device\")"
      ]
    },
    {
      "cell_type": "markdown",
      "metadata": {
        "id": "7dj3Al85OeLY"
      },
      "source": [
        "# Global Variables"
      ]
    },
    {
      "cell_type": "code",
      "execution_count": 28,
      "metadata": {
        "id": "XYxLDkedOeLY"
      },
      "outputs": [],
      "source": [
        "# In Google Colab\n",
        "train_path = '/content/tabular-playground-s4e10-loan-approval/train.csv'\n",
        "test_path = '/content/tabular-playground-s4e10-loan-approval/test.csv'\n",
        "\n",
        "# # In Local machine\n",
        "# train_path = 'train.csv'\n",
        "# test_path = 'test.csv'\n",
        "\n",
        "random_state = 1048576\n",
        "target = 'loan_status'\n",
        "cat_features = [\n",
        "    'person_home_ownership',\n",
        "    'loan_intent',\n",
        "    'loan_grade',\n",
        "    'cb_person_default_on_file'\n",
        "]\n",
        "\n",
        "num_features = [\n",
        "    'person_age',\n",
        "    'person_income',\n",
        "    'person_emp_length',\n",
        "    'loan_amnt',\n",
        "    'loan_int_rate',\n",
        "    'loan_percent_income',\n",
        "    'cb_person_cred_hist_length'\n",
        "]"
      ]
    },
    {
      "cell_type": "markdown",
      "metadata": {
        "id": "HJ-AkjE4OeLZ"
      },
      "source": [
        "# Data Loading and Preprocessing"
      ]
    },
    {
      "cell_type": "code",
      "execution_count": 29,
      "metadata": {
        "colab": {
          "base_uri": "https://localhost:8080/"
        },
        "id": "Y66xYo0EOeLZ",
        "outputId": "1f3e5049-110b-496e-ad8f-fc907427503b"
      },
      "outputs": [
        {
          "output_type": "stream",
          "name": "stdout",
          "text": [
            "Shape of X_train is: (52780, 11); shape of y_train is: (52780,)\n",
            "Shape of X_test is: (5865, 11); shape of y_test is: (5865,)\n",
            "Shape of X_train is: (47502, 11);  shape of y_train is: (47502,)\n",
            "Shape of X_val is: (5278, 11);  shape of y_test is: (5278,)\n",
            "New shape of X_train is: (47371, 11); New shape of y_train is: (47371,)\n",
            "Target distribution before oversampling:  (0: 14.23%,  1: 85.77%)\n",
            "X_train shape after oversampling: (81264, 26);  y_train shape after oversampling: (81264, 26)\n",
            "Target distribution after oversampling:  (0: 50.0%,  1: 50.0%)\n"
          ]
        }
      ],
      "source": [
        "# Data Loading\n",
        "X_train, X_test, y_train, y_test = preprocess.DataImport.get_train_test(\n",
        "    train_path, index_col=0, target=target,\n",
        "    random_state=random_state, verbose=1\n",
        "    )\n",
        "\n",
        "# Train - Validation Split\n",
        "X_train, X_val, y_train, y_val = train_test_split(\n",
        "            X_train, y_train, test_size=0.1, random_state=random_state)\n",
        "\n",
        "print(f'Shape of X_train is: {X_train.shape}; ',\n",
        "      f'shape of y_train is: {y_train.shape}')\n",
        "print(f'Shape of X_val is: {X_val.shape}; ',\n",
        "      f'shape of y_test is: {y_val.shape}')\n",
        "\n",
        "# Remove outliers\n",
        "X_train, y_train = preprocess.Outliers.remove_outliers(\n",
        "    X_train, y_train, verbose=1\n",
        "    )\n",
        "\n",
        "# One-Hot Encode\n",
        "encoder = preprocess.CategoryEncoder(cat_features=cat_features,\n",
        "                                     method='one_hot')\n",
        "X_train = encoder.fit_transform(X_train)\n",
        "X_val = encoder.transform(X_val)\n",
        "X_test = encoder.transform(X_test)\n",
        "\n",
        "# Standard Scaling\n",
        "scaler = StandardScaler()\n",
        "features = X_train.columns\n",
        "X_train = pd.DataFrame(scaler.fit_transform(X_train), columns=features)\n",
        "X_val = pd.DataFrame(scaler.transform(X_val), columns=features)\n",
        "X_test = pd.DataFrame(scaler.transform(X_test), columns=features)\n",
        "\n",
        "# Oversampling\n",
        "print(f'Target distribution before oversampling: ',\n",
        "      f'(0: {round(y_train.sum() / y_train.size * 100, 2)}%, ',\n",
        "      f'1: {round((1 - y_train.sum() / y_train.size) * 100, 2)}%)')\n",
        "oversampler = RandomOverSampler(random_state=random_state)\n",
        "X_train, y_train = oversampler.fit_resample(X_train, y_train)\n",
        "print(f'X_train shape after oversampling: {X_train.shape}; ',\n",
        "      f'y_train shape after oversampling: {X_train.shape}')\n",
        "print(f'Target distribution after oversampling: ',\n",
        "      f'(0: {round(y_train.sum() / y_train.size * 100, 2)}%, ',\n",
        "      f'1: {round((1 - y_train.sum() / y_train.size) * 100, 2)}%)')\n",
        "\n",
        "# Create data loaders\n",
        "def create_data_loader(X: pd.DataFrame | np.ndarray, y: pd.Series | np.ndarray,\n",
        "                       batch_size: int = 32, shuffle: bool = True):\n",
        "    X = torch.tensor(X.values, dtype=torch.float32)\n",
        "    y = torch.tensor(y.values, dtype=torch.float32)\n",
        "    data_tensor = data_utils.TensorDataset(X, y)\n",
        "    data_loader = data_utils.DataLoader(dataset=data_tensor,\n",
        "                                         batch_size=batch_size,\n",
        "                                         shuffle=shuffle)\n",
        "    return data_loader\n",
        "\n",
        "train_loader = create_data_loader(X_train, y_train)\n",
        "val_loader = create_data_loader(X_val, y_val)\n",
        "test_loader = create_data_loader(X_test, y_test)"
      ]
    },
    {
      "cell_type": "markdown",
      "metadata": {
        "id": "9sTNxLbAOeLZ"
      },
      "source": [
        "# Model building"
      ]
    },
    {
      "cell_type": "code",
      "execution_count": 30,
      "metadata": {
        "id": "g_1S_qlEOeLZ"
      },
      "outputs": [],
      "source": [
        "# Define the neural network model\n",
        "class BinaryClassificationNN(nn.Module):\n",
        "    def __init__(self):\n",
        "        super(BinaryClassificationNN, self).__init__()\n",
        "\n",
        "        # Define the layers\n",
        "        self.fc1 = nn.Linear(in_features=26, out_features=32)\n",
        "        self.fc2 = nn.Linear(in_features=32, out_features=32)\n",
        "        self.fc3 = nn.Linear(in_features=32, out_features=1)\n",
        "\n",
        "        # Activation function\n",
        "        self.relu = nn.ReLU()\n",
        "\n",
        "        # Sigmoid for probability output\n",
        "        self.sigmoid = nn.Sigmoid()\n",
        "\n",
        "        # Initialize weights\n",
        "        self.init_weights()  # Custom weight initialization\n",
        "\n",
        "    def init_weights(self):\n",
        "        # Initialize weights with Xavier (Glorot) initialization\n",
        "        nn.init.xavier_uniform_(self.fc1.weight)\n",
        "        nn.init.xavier_uniform_(self.fc2.weight)\n",
        "        nn.init.xavier_uniform_(self.fc3.weight)\n",
        "\n",
        "        # Optionally, initialize biases to zero\n",
        "        nn.init.zeros_(self.fc1.bias)\n",
        "        nn.init.zeros_(self.fc2.bias)\n",
        "        nn.init.zeros_(self.fc3.bias)\n",
        "\n",
        "\n",
        "    def forward(self, X: pd.DataFrame | np.ndarray) -> pd.DataFrame | np.ndarray:\n",
        "        X = self.relu(self.fc1(X))\n",
        "        X = self.relu(self.fc2(X))\n",
        "        X = self.sigmoid(self.fc3(X)) # Sigmoid for binary classification\n",
        "        return X\n",
        "\n"
      ]
    },
    {
      "cell_type": "markdown",
      "metadata": {
        "id": "9n9InRN3ruI0"
      },
      "source": [
        "# Model Training"
      ]
    },
    {
      "cell_type": "code",
      "source": [
        "def save_checkpoint(model: nn.Module, optimizer: optim.Optimizer,\n",
        "                    epoch: int, loss: float, score: float,\n",
        "                    filename: str = 'checkpoint.pth', verbose: bool = False):\n",
        "    torch.save({\n",
        "        'epoch': epoch + 1,\n",
        "        'model_state_dict': model.state_dict(),\n",
        "        'optimizer_state_dict': optimizer.state_dict(),\n",
        "        'loss': loss,\n",
        "        'score': score\n",
        "    }, filename)\n",
        "    if verbose:\n",
        "        print(f'Checkpoint saved at epoch {epoch + 1}')\n",
        "\n",
        "def load_checkpoint(filename: str = 'checkpoint.pth'):\n",
        "    model = BinaryClassificationNN()\n",
        "    optimizer = optim.Adam(model.parameters())\n",
        "    checkpoint = torch.load(filename, weights_only=False)\n",
        "    model.load_state_dict(checkpoint['model_state_dict'])\n",
        "    optimizer.load_state_dict(checkpoint['optimizer_state_dict'])\n",
        "    epoch = checkpoint['epoch']\n",
        "    loss = checkpoint['loss']\n",
        "    return model, optimizer, epoch, loss"
      ],
      "metadata": {
        "id": "oWQHaXe65YxP"
      },
      "execution_count": 31,
      "outputs": []
    },
    {
      "cell_type": "code",
      "source": [
        "class EarlyStopping:\n",
        "    def __init__(self, patience: int = 5, method: str = 'loss'):\n",
        "        self.patience = patience\n",
        "        self.method = method\n",
        "        self.counter = 0\n",
        "        self.best_value = np.inf\n",
        "        self.early_stop = False\n",
        "\n",
        "    def __call__(self, val_value):\n",
        "        if self.method == 'loss':\n",
        "            val_value = val_value\n",
        "        elif self.method == 'score':\n",
        "            val_value = -val_value\n",
        "        if val_value < self.best_value:\n",
        "            self.best_value = val_value\n",
        "            self.counter = 0\n",
        "        else:\n",
        "            self.counter += 1\n",
        "            if self.counter >= self.patience:\n",
        "                self.early_stop = True"
      ],
      "metadata": {
        "id": "LlyWVmHK50iD"
      },
      "execution_count": 32,
      "outputs": []
    },
    {
      "cell_type": "code",
      "execution_count": 33,
      "metadata": {
        "id": "5f9aRW7PruI0"
      },
      "outputs": [],
      "source": [
        "def model_score(model: nn.Module,\n",
        "               data_loader: data_utils.DataLoader,\n",
        "                device: str = device):\n",
        "    dataset = data_loader.dataset\n",
        "\n",
        "    model.eval()\n",
        "    with torch.no_grad():\n",
        "        # Evaluate inputs\n",
        "        outputs = model(dataset.tensors[0].to(device)).cpu()\n",
        "        labels = dataset.tensors[1]\n",
        "\n",
        "        # Calculate score\n",
        "        score = roc_auc_score(labels, outputs)\n",
        "    return score\n",
        "\n",
        "def train_model(model: nn.Module,\n",
        "                train_loader: data_utils.DataLoader,\n",
        "                eval_loader: data_utils.DataLoader = None,\n",
        "                num_epochs: int = 10, learning_rate: float = 0.01,\n",
        "                weight_decay: float = 1e-3,\n",
        "                criterion: torch.nn.modules.loss = nn.BCELoss(),\n",
        "                device: str = 'cpu',\n",
        "                early_stopping_method: str = 'loss',\n",
        "                early_stopping_patience: int = 5,\n",
        "                save_path: str = None,\n",
        "                verbose: int = 1, random_state=random_state):\n",
        "    # Initialize optimizer, early_stopping and history parameters\n",
        "    optimizer = optim.Adam(model.parameters(),\n",
        "                           lr=learning_rate,\n",
        "                           weight_decay=weight_decay)\n",
        "    early_stopping = EarlyStopping(patience=early_stopping_patience,\n",
        "                                   method=early_stopping_method)\n",
        "    best_val = np.inf\n",
        "\n",
        "    losses = {\"train\": [], \"val\": []}\n",
        "    scores = {\"train\": [], \"val\": []}\n",
        "\n",
        "    for epoch in range(num_epochs):  # Training loop\n",
        "            # Training phrase\n",
        "            total_train_loss = 0\n",
        "\n",
        "            model.train()  # Set the model to training mode\n",
        "            torch.manual_seed(random_state)\n",
        "            for batch_idx, (inputs, labels) in enumerate(train_loader):\n",
        "                # Cast to device\n",
        "                inputs, labels = inputs.to(device), labels.to(device)\n",
        "\n",
        "                # Forward pass\n",
        "                outputs = model(inputs)\n",
        "                outputs = torch.squeeze(outputs)\n",
        "\n",
        "                # Compute the loss\n",
        "                loss = criterion(outputs, labels)\n",
        "\n",
        "                # Backpropagation and optimization\n",
        "                optimizer.zero_grad()  # Clear previous gradients\n",
        "                loss.backward() # Backpropagate\n",
        "                optimizer.step() # Update weights\n",
        "\n",
        "                # Rolling sum of training loss\n",
        "                total_train_loss += loss.item()\n",
        "\n",
        "                # If large verbose print batch loss\n",
        "                if verbose > 1:\n",
        "                    print_freq = num_epochs // 10\n",
        "                    if batch_idx % print_freq == 0:\n",
        "                        print(f\"Epoch [{epoch+1}/{num_epochs}], \\\n",
        "                        Batch [{batch_idx}], \\\n",
        "                        Loss: {loss.item():.4f}\") # Printing loss\n",
        "\n",
        "            # Store the loss value for this epoch\n",
        "            average_train_loss = total_train_loss / len(train_loader)\n",
        "            losses['train'].append(average_train_loss)\n",
        "\n",
        "            # Evaluate training score\n",
        "            train_score = model_score(model, train_loader)\n",
        "            scores['train'].append(train_score)\n",
        "            if verbose > 0 and not eval_loader:\n",
        "                print(f\"Epoch [{epoch+1}/{num_epochs}], \",\n",
        "                    f\"Average Train Loss: {average_train_loss:.4f}, \",\n",
        "                    f\"Training Score: {train_score:.4f}.\") # Printing loss\n",
        "\n",
        "            if eval_loader:\n",
        "                total_val_loss = 0 # Initiate total_val loss\n",
        "\n",
        "                model.eval()  # Set the model to evaluation mode\n",
        "                # Evaluate the model on the validation set\n",
        "                torch.manual_seed(random_state)\n",
        "                for inputs, labels in eval_loader: # For each batch\n",
        "                    # Cast to device\n",
        "                    inputs, labels = inputs.to(device), labels.to(device)\n",
        "\n",
        "                    # Forward pass\n",
        "                    outputs = model(inputs)\n",
        "                    outputs = torch.squeeze(outputs)\n",
        "\n",
        "                    # Compute the loss\n",
        "                    loss = criterion(outputs, labels)\n",
        "                    total_val_loss += loss.item() # Rolling sum of training loss\n",
        "\n",
        "                # Store the loss value for this epoch\n",
        "                average_val_loss = total_val_loss / len(eval_loader)\n",
        "                losses['val'].append(average_val_loss)\n",
        "\n",
        "                # Evaluate validation score\n",
        "                val_score = model_score(model, eval_loader)\n",
        "                scores['val'].append(val_score)\n",
        "\n",
        "                if verbose > 0:\n",
        "                    print(f\"Epoch [{epoch+1}/{num_epochs}], \",\n",
        "                    f\"Average Train Loss: {average_train_loss:.4f}, \",\n",
        "                    f\"Training Score: {train_score:.4f}, \",\n",
        "                    f\"Average Val Loss: {average_val_loss:.4f}, \",\n",
        "                    f\"Validation Score: {val_score:.4f}.\") # Printing loss\n",
        "\n",
        "            # Update best model\n",
        "            if eval_loader:\n",
        "                compare_set = 'val'\n",
        "            else:\n",
        "                compare_set = 'train'\n",
        "            if early_stopping_method == 'loss':\n",
        "                compare_val = losses[compare_set][-1]\n",
        "            elif early_stopping_method == 'score':\n",
        "                compare_val = - scores[compare_set][-1]\n",
        "            if compare_val < best_val:\n",
        "                best_val = compare_val\n",
        "                save_checkpoint(model, optimizer, epoch,\n",
        "                                losses[compare_set][-1],\n",
        "                                scores[compare_set][-1],\n",
        "                                save_path, verbose)\n",
        "\n",
        "\n",
        "            # Early Stopping\n",
        "            if early_stopping_method == 'loss':\n",
        "                early_stopping(average_val_loss)\n",
        "            elif early_stopping_method == 'score':\n",
        "                early_stopping(val_score)\n",
        "            if early_stopping.early_stop:\n",
        "                print(f\"Early stopping triggered, \",\n",
        "                      f\"validation {early_stopping_method} not improved \",\n",
        "                      f\"after {early_stopping_patience} epochs\")\n",
        "                break\n",
        "    # Pack history\n",
        "    history = {}\n",
        "    history['loss'] = losses\n",
        "    history['scores'] = scores\n",
        "\n",
        "    return history"
      ]
    },
    {
      "cell_type": "code",
      "execution_count": 40,
      "metadata": {
        "colab": {
          "base_uri": "https://localhost:8080/"
        },
        "id": "wADiH_TsruI0",
        "outputId": "e3fe178b-35d9-4044-8904-e34f7a2d4aef"
      },
      "outputs": [
        {
          "output_type": "stream",
          "name": "stdout",
          "text": [
            "Epoch [1/1000],  Average Train Loss: 0.3539,  Training Score: 0.9301,  Average Val Loss: 0.3343,  Validation Score: 0.9279.\n",
            "Checkpoint saved at epoch 1\n",
            "Epoch [2/1000],  Average Train Loss: 0.3233,  Training Score: 0.9331,  Average Val Loss: 0.3249,  Validation Score: 0.9291.\n",
            "Checkpoint saved at epoch 2\n",
            "Epoch [3/1000],  Average Train Loss: 0.3176,  Training Score: 0.9345,  Average Val Loss: 0.3211,  Validation Score: 0.9293.\n",
            "Checkpoint saved at epoch 3\n",
            "Epoch [4/1000],  Average Train Loss: 0.3145,  Training Score: 0.9353,  Average Val Loss: 0.3206,  Validation Score: 0.9291.\n",
            "Checkpoint saved at epoch 4\n",
            "Epoch [5/1000],  Average Train Loss: 0.3126,  Training Score: 0.9359,  Average Val Loss: 0.3175,  Validation Score: 0.9291.\n",
            "Checkpoint saved at epoch 5\n",
            "Epoch [6/1000],  Average Train Loss: 0.3110,  Training Score: 0.9366,  Average Val Loss: 0.3174,  Validation Score: 0.9292.\n",
            "Checkpoint saved at epoch 6\n",
            "Epoch [7/1000],  Average Train Loss: 0.3097,  Training Score: 0.9370,  Average Val Loss: 0.3164,  Validation Score: 0.9288.\n",
            "Checkpoint saved at epoch 7\n",
            "Epoch [8/1000],  Average Train Loss: 0.3088,  Training Score: 0.9374,  Average Val Loss: 0.3149,  Validation Score: 0.9284.\n",
            "Checkpoint saved at epoch 8\n",
            "Epoch [9/1000],  Average Train Loss: 0.3082,  Training Score: 0.9377,  Average Val Loss: 0.3143,  Validation Score: 0.9286.\n",
            "Checkpoint saved at epoch 9\n",
            "Epoch [10/1000],  Average Train Loss: 0.3075,  Training Score: 0.9380,  Average Val Loss: 0.3138,  Validation Score: 0.9286.\n",
            "Checkpoint saved at epoch 10\n",
            "Epoch [11/1000],  Average Train Loss: 0.3070,  Training Score: 0.9382,  Average Val Loss: 0.3137,  Validation Score: 0.9285.\n",
            "Checkpoint saved at epoch 11\n",
            "Epoch [12/1000],  Average Train Loss: 0.3065,  Training Score: 0.9384,  Average Val Loss: 0.3122,  Validation Score: 0.9286.\n",
            "Checkpoint saved at epoch 12\n",
            "Epoch [13/1000],  Average Train Loss: 0.3061,  Training Score: 0.9386,  Average Val Loss: 0.3114,  Validation Score: 0.9286.\n",
            "Checkpoint saved at epoch 13\n",
            "Epoch [14/1000],  Average Train Loss: 0.3056,  Training Score: 0.9387,  Average Val Loss: 0.3115,  Validation Score: 0.9284.\n",
            "Epoch [15/1000],  Average Train Loss: 0.3053,  Training Score: 0.9390,  Average Val Loss: 0.3111,  Validation Score: 0.9285.\n",
            "Checkpoint saved at epoch 15\n",
            "Epoch [16/1000],  Average Train Loss: 0.3049,  Training Score: 0.9391,  Average Val Loss: 0.3113,  Validation Score: 0.9285.\n",
            "Epoch [17/1000],  Average Train Loss: 0.3045,  Training Score: 0.9392,  Average Val Loss: 0.3109,  Validation Score: 0.9285.\n",
            "Checkpoint saved at epoch 17\n",
            "Epoch [18/1000],  Average Train Loss: 0.3042,  Training Score: 0.9394,  Average Val Loss: 0.3131,  Validation Score: 0.9286.\n",
            "Epoch [19/1000],  Average Train Loss: 0.3038,  Training Score: 0.9395,  Average Val Loss: 0.3120,  Validation Score: 0.9284.\n",
            "Epoch [20/1000],  Average Train Loss: 0.3035,  Training Score: 0.9396,  Average Val Loss: 0.3124,  Validation Score: 0.9285.\n",
            "Epoch [21/1000],  Average Train Loss: 0.3032,  Training Score: 0.9397,  Average Val Loss: 0.3132,  Validation Score: 0.9286.\n",
            "Epoch [22/1000],  Average Train Loss: 0.3030,  Training Score: 0.9399,  Average Val Loss: 0.3107,  Validation Score: 0.9289.\n",
            "Checkpoint saved at epoch 22\n",
            "Epoch [23/1000],  Average Train Loss: 0.3027,  Training Score: 0.9400,  Average Val Loss: 0.3118,  Validation Score: 0.9288.\n",
            "Epoch [24/1000],  Average Train Loss: 0.3025,  Training Score: 0.9400,  Average Val Loss: 0.3104,  Validation Score: 0.9292.\n",
            "Checkpoint saved at epoch 24\n",
            "Epoch [25/1000],  Average Train Loss: 0.3022,  Training Score: 0.9402,  Average Val Loss: 0.3102,  Validation Score: 0.9292.\n",
            "Checkpoint saved at epoch 25\n",
            "Epoch [26/1000],  Average Train Loss: 0.3019,  Training Score: 0.9403,  Average Val Loss: 0.3109,  Validation Score: 0.9288.\n",
            "Epoch [27/1000],  Average Train Loss: 0.3017,  Training Score: 0.9404,  Average Val Loss: 0.3108,  Validation Score: 0.9289.\n",
            "Epoch [28/1000],  Average Train Loss: 0.3014,  Training Score: 0.9405,  Average Val Loss: 0.3115,  Validation Score: 0.9289.\n",
            "Epoch [29/1000],  Average Train Loss: 0.3013,  Training Score: 0.9406,  Average Val Loss: 0.3108,  Validation Score: 0.9288.\n",
            "Epoch [30/1000],  Average Train Loss: 0.3012,  Training Score: 0.9406,  Average Val Loss: 0.3112,  Validation Score: 0.9292.\n",
            "Epoch [31/1000],  Average Train Loss: 0.3010,  Training Score: 0.9408,  Average Val Loss: 0.3111,  Validation Score: 0.9292.\n",
            "Epoch [32/1000],  Average Train Loss: 0.3009,  Training Score: 0.9408,  Average Val Loss: 0.3105,  Validation Score: 0.9291.\n",
            "Epoch [33/1000],  Average Train Loss: 0.3007,  Training Score: 0.9409,  Average Val Loss: 0.3104,  Validation Score: 0.9294.\n",
            "Epoch [34/1000],  Average Train Loss: 0.3006,  Training Score: 0.9408,  Average Val Loss: 0.3101,  Validation Score: 0.9293.\n",
            "Checkpoint saved at epoch 34\n",
            "Epoch [35/1000],  Average Train Loss: 0.3005,  Training Score: 0.9409,  Average Val Loss: 0.3099,  Validation Score: 0.9291.\n",
            "Checkpoint saved at epoch 35\n",
            "Epoch [36/1000],  Average Train Loss: 0.3004,  Training Score: 0.9410,  Average Val Loss: 0.3104,  Validation Score: 0.9293.\n",
            "Epoch [37/1000],  Average Train Loss: 0.3003,  Training Score: 0.9410,  Average Val Loss: 0.3096,  Validation Score: 0.9291.\n",
            "Checkpoint saved at epoch 37\n",
            "Epoch [38/1000],  Average Train Loss: 0.3002,  Training Score: 0.9410,  Average Val Loss: 0.3090,  Validation Score: 0.9289.\n",
            "Checkpoint saved at epoch 38\n",
            "Epoch [39/1000],  Average Train Loss: 0.3002,  Training Score: 0.9411,  Average Val Loss: 0.3088,  Validation Score: 0.9287.\n",
            "Checkpoint saved at epoch 39\n",
            "Epoch [40/1000],  Average Train Loss: 0.2999,  Training Score: 0.9412,  Average Val Loss: 0.3094,  Validation Score: 0.9289.\n",
            "Epoch [41/1000],  Average Train Loss: 0.2997,  Training Score: 0.9413,  Average Val Loss: 0.3089,  Validation Score: 0.9286.\n",
            "Epoch [42/1000],  Average Train Loss: 0.2996,  Training Score: 0.9414,  Average Val Loss: 0.3081,  Validation Score: 0.9286.\n",
            "Checkpoint saved at epoch 42\n",
            "Epoch [43/1000],  Average Train Loss: 0.2995,  Training Score: 0.9414,  Average Val Loss: 0.3090,  Validation Score: 0.9285.\n",
            "Epoch [44/1000],  Average Train Loss: 0.2994,  Training Score: 0.9415,  Average Val Loss: 0.3088,  Validation Score: 0.9285.\n",
            "Epoch [45/1000],  Average Train Loss: 0.2992,  Training Score: 0.9415,  Average Val Loss: 0.3105,  Validation Score: 0.9283.\n",
            "Epoch [46/1000],  Average Train Loss: 0.2991,  Training Score: 0.9416,  Average Val Loss: 0.3083,  Validation Score: 0.9284.\n",
            "Epoch [47/1000],  Average Train Loss: 0.2990,  Training Score: 0.9417,  Average Val Loss: 0.3087,  Validation Score: 0.9285.\n",
            "Epoch [48/1000],  Average Train Loss: 0.2988,  Training Score: 0.9417,  Average Val Loss: 0.3099,  Validation Score: 0.9282.\n",
            "Epoch [49/1000],  Average Train Loss: 0.2987,  Training Score: 0.9419,  Average Val Loss: 0.3085,  Validation Score: 0.9284.\n",
            "Epoch [50/1000],  Average Train Loss: 0.2986,  Training Score: 0.9418,  Average Val Loss: 0.3094,  Validation Score: 0.9282.\n",
            "Epoch [51/1000],  Average Train Loss: 0.2985,  Training Score: 0.9418,  Average Val Loss: 0.3096,  Validation Score: 0.9280.\n",
            "Epoch [52/1000],  Average Train Loss: 0.2984,  Training Score: 0.9419,  Average Val Loss: 0.3085,  Validation Score: 0.9279.\n",
            "Early stopping triggered,  validation loss not improved  after 10 epochs\n"
          ]
        }
      ],
      "source": [
        "num_epochs = 1000\n",
        "\n",
        "torch.manual_seed(random_state)\n",
        "model = BinaryClassificationNN()\n",
        "model = model.to(device)\n",
        "history = train_model(model,\n",
        "                      train_loader, val_loader,\n",
        "                      num_epochs,\n",
        "                      learning_rate=0.001,\n",
        "                      device=device,\n",
        "                      early_stopping_patience=10,\n",
        "                      early_stopping_method='loss',\n",
        "                      save_path='PyTorch_best_model.pt',\n",
        "                      random_state=random_state)"
      ]
    },
    {
      "cell_type": "markdown",
      "metadata": {
        "id": "gYUhE9YfruI1"
      },
      "source": [
        "# Loss analysis"
      ]
    },
    {
      "cell_type": "code",
      "execution_count": 41,
      "metadata": {
        "id": "IbFSA2XjruI1"
      },
      "outputs": [],
      "source": [
        "def plot_loss(history, loss: bool = True, score: bool = False):\n",
        "    num_epochs = len(history['loss']['train'])\n",
        "    if not loss and not score:\n",
        "        raise ValueError('Cannot have both loss and score set as False')\n",
        "\n",
        "    if loss:\n",
        "        plt.plot(range(1, num_epochs+1), history['loss']['train'], marker='o')\n",
        "        plt.plot(range(1, num_epochs+1), history['loss']['val'], marker='o')\n",
        "    if score:\n",
        "        plt.plot(range(1, num_epochs+1), history['scores']['train'], marker='x')\n",
        "        plt.plot(range(1, num_epochs+1), history['scores']['val'], marker='x')\n",
        "\n",
        "    if loss and score:\n",
        "        plt.title('Training Loss and Scores Over Epochs')\n",
        "    elif score:\n",
        "        plt.title('Scores Over Epochs')\n",
        "    elif loss:\n",
        "        plt.title('Training Loss Over Epochs')\n",
        "    plt.xlabel('Epoch')\n",
        "    plt.ylabel('Loss')\n",
        "    plt.grid(True)\n",
        "    plt.legend(['Train', 'Validation'])\n",
        "    plt.show()"
      ]
    },
    {
      "cell_type": "code",
      "execution_count": 42,
      "metadata": {
        "colab": {
          "base_uri": "https://localhost:8080/",
          "height": 472
        },
        "id": "CPLueZGFruI1",
        "outputId": "ca983c14-ea45-4419-d8e2-7580bf3df33c"
      },
      "outputs": [
        {
          "output_type": "display_data",
          "data": {
            "text/plain": [
              "<Figure size 640x480 with 1 Axes>"
            ],
            "image/png": "[encoded data removed]"
          },
          "metadata": {}
        }
      ],
      "source": [
        "plot_loss(history)"
      ]
    },
    {
      "cell_type": "code",
      "source": [
        "plot_loss(history, loss=False, score=True)"
      ],
      "metadata": {
        "id": "g5W3buW2UhaM",
        "outputId": "c022437f-f587-479c-e1a1-cfc10bcc741c",
        "colab": {
          "base_uri": "https://localhost:8080/",
          "height": 472
        }
      },
      "execution_count": 43,
      "outputs": [
        {
          "output_type": "display_data",
          "data": {
            "text/plain": [
              "<Figure size 640x480 with 1 Axes>"
            ],
            "image/png": "[encoded data removed]"
          },
          "metadata": {}
        }
      ]
    },
    {
      "cell_type": "code",
      "source": [
        "best_model, optimizer, epoch, loss = load_checkpoint('PyTorch_best_model.pt')"
      ],
      "metadata": {
        "id": "UQH5EOR-hi1W"
      },
      "execution_count": 44,
      "outputs": []
    },
    {
      "cell_type": "code",
      "source": [
        "best_model = best_model.to(device)\n",
        "best_model.eval()\n",
        "test_score = round(model_score(model, test_loader), 4)\n",
        "print(f'Test Score: {test_score}')"
      ],
      "metadata": {
        "id": "qhnXg7BLGKIl",
        "colab": {
          "base_uri": "https://localhost:8080/"
        },
        "outputId": "55bd762d-2fc4-47e5-dbdc-7e2cfe71f5c5"
      },
      "execution_count": 45,
      "outputs": [
        {
          "output_type": "stream",
          "name": "stdout",
          "text": [
            "Test Score: 0.9297\n"
          ]
        }
      ]
    },
    {
      "cell_type": "code",
      "source": [
        "# # Auto terminate session\n",
        "\n",
        "# from google.colab import runtime\n",
        "# runtime.unassign()"
      ],
      "metadata": {
        "id": "yR-W2KjJJ5Zh"
      },
      "execution_count": 39,
      "outputs": []
    },
    {
      "cell_type": "code",
      "source": [],
      "metadata": {
        "id": "g_hjvLVENVul"
      },
      "execution_count": 39,
      "outputs": []
    }
  ],
  "metadata": {
    "colab": {
      "provenance": []
    },
    "kernelspec": {
      "display_name": "Python 3",
      "name": "python3"
    },
    "language_info": {
      "codemirror_mode": {
        "name": "ipython",
        "version": 3
      },
      "file_extension": ".py",
      "mimetype": "text/x-python",
      "name": "python",
      "nbconvert_exporter": "python",
      "pygments_lexer": "ipython3",
      "version": "3.11.7"
    }
  },
  "nbformat": 4,
  "nbformat_minor": 0
}